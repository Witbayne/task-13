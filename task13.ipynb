{
 "cells": [
  {
   "cell_type": "markdown",
   "id": "0289f483",
   "metadata": {},
   "source": [
    "     Exercise"
   ]
  },
  {
   "cell_type": "code",
   "execution_count": 8,
   "id": "a34351a8",
   "metadata": {},
   "outputs": [],
   "source": [
    "import numpy as np\n",
    "import matplotlib.pyplot as plt\n",
    "import time"
   ]
  },
  {
   "cell_type": "code",
   "execution_count": 9,
   "id": "9f7771c7",
   "metadata": {},
   "outputs": [
    {
     "name": "stdout",
     "output_type": "stream",
     "text": [
      "random array:\n",
      " [ 0  1  2  3  4  5  6  7  8  9 10 11 12 13 14 15 16 17 18 19 20 21 22 23\n",
      " 24 25 26 27 28 29 30 31 32 33 34 35 36 37 38 39 40 41 42 43 44 45 46 47\n",
      " 48 49]\n",
      "random\n",
      " [[ 3 10  8 44  2 36]\n",
      " [43 24 19 48 42 36]\n",
      " [ 7  5 14 43 20 27]\n",
      " [26 29 35  2 45 20]\n",
      " [34 18 12 49 43  5]\n",
      " [16 47  2  1 26 48]]\n",
      "3d array\n",
      " [44 48]\n",
      "even number\n",
      " [44 48]\n"
     ]
    }
   ],
   "source": [
    "# 6x6 nuumpy array\n",
    "arr6x6=np.arange(50)\n",
    "random_int=np.random.randint(1,50, (6, 6))\n",
    "arr_3d=random_int[:2, -3]\n",
    "even_numbers=arr_3d[arr_3d % 2 == 0]\n",
    "print(\"random array:\\n\",arr6x6)\n",
    "print (\"random\\n\",random_int)\n",
    "print(\"3d array\\n\",arr_3d)\n",
    "print(\"even number\\n\",even_numbers)\n",
    "\n"
   ]
  },
  {
   "cell_type": "markdown",
   "id": "cbe7366b",
   "metadata": {},
   "source": [
    "**question 2**"
   ]
  },
  {
   "cell_type": "code",
   "execution_count": 10,
   "id": "af1ae5cb",
   "metadata": {},
   "outputs": [
    {
     "name": "stdout",
     "output_type": "stream",
     "text": [
      "row 1\n",
      " [[ 3 10  8 44  2 36]\n",
      " [43 24 19 48 42 36]]\n",
      "column\n",
      " [[44  2 36]\n",
      " [48 42 36]\n",
      " [43 20 27]\n",
      " [ 2 45 20]\n",
      " [49 43  5]\n",
      " [ 1 26 48]]\n",
      "even number:\n",
      " [10  8 44  2 36 24 48 42 36 14 20 26  2 20 34 18 12 16  2 26 48]\n"
     ]
    }
   ],
   "source": [
    "#Extract the following from the array you created in Question 1: The first two rows. The last three columns. All even numbers in the array\n",
    "row_1=random_int[:2, :]\n",
    "print(\"row 1\\n\",row_1)\n",
    "column_1=random_int[:, -3:]\n",
    "print(\"column\\n\",column_1)\n",
    "even_numbers=random_int[random_int % 2 ==0]\n",
    "print(\"even number:\\n\",even_numbers)\n"
   ]
  },
  {
   "cell_type": "markdown",
   "id": "266db47b",
   "metadata": {},
   "source": [
    "Questiion 3\n",
    "\n",
    "# Perform the following array transformations: Reshape the array into a 3D (3, 2, 6) array. Flatten the reshaped array back to 1D."
   ]
  },
  {
   "cell_type": "code",
   "execution_count": 11,
   "id": "59003faf",
   "metadata": {},
   "outputs": [
    {
     "name": "stdout",
     "output_type": "stream",
     "text": [
      "Reshaped to:\n",
      " [[[ 3 10  8 44  2 36]\n",
      "  [43 24 19 48 42 36]]\n",
      "\n",
      " [[ 7  5 14 43 20 27]\n",
      "  [26 29 35  2 45 20]]\n",
      "\n",
      " [[34 18 12 49 43  5]\n",
      "  [16 47  2  1 26 48]]]\n"
     ]
    }
   ],
   "source": [
    "arr_reshape=random_int.reshape(3, 2, 6)\n",
    "print(\"Reshaped to:\\n\",arr_reshape)"
   ]
  },
  {
   "cell_type": "markdown",
   "id": "12b8ae8e",
   "metadata": {},
   "source": [
    "**question 4**\n",
    "# Generate a 4x4 identity matrix and replace the diagonal with numbers from 10 to 40, with a step of 10.\n"
   ]
  },
  {
   "cell_type": "code",
   "execution_count": 12,
   "id": "8be8586d",
   "metadata": {},
   "outputs": [
    {
     "name": "stdout",
     "output_type": "stream",
     "text": [
      "identity matrix;\n",
      " [[1. 0. 0. 0.]\n",
      " [0. 1. 0. 0.]\n",
      " [0. 0. 1. 0.]\n",
      " [0. 0. 0. 1.]]\n",
      "diagonal num:\n",
      " [10 20 30]\n",
      "replace diag:\n",
      " [[10  0  0  0]\n",
      " [ 0 20  0  0]\n",
      " [ 0  0 30  0]\n",
      " [ 0  0  0 40]]\n"
     ]
    }
   ],
   "source": [
    "identity_mat= np.eye(4)\n",
    "print(\"identity matrix;\\n\",identity_mat)\n",
    "diagonal=np.arange(10, 40, 10)\n",
    "print(\"diagonal num:\\n\",diagonal)\n",
    "diag_replace=np.diag([10,20, 30, 40])\n",
    "print(\"replace diag:\\n\",diag_replace)\n"
   ]
  },
  {
   "cell_type": "markdown",
   "id": "967e0b7f",
   "metadata": {},
   "source": [
    "question5\n",
    "# Perform matrix multiplication between: A 3x4 matrix of random integers (1-10) A 4x3 matrix of random integers (1-10)"
   ]
  },
  {
   "cell_type": "code",
   "execution_count": 13,
   "id": "862e9bc2",
   "metadata": {},
   "outputs": [
    {
     "name": "stdout",
     "output_type": "stream",
     "text": [
      "range:\n",
      " [0 1 2 3 4 5 6 7 8 9]\n",
      "A:\n",
      " [[7 1 1 6]\n",
      " [3 7 6 7]\n",
      " [4 9 4 8]]\n",
      "range:\n",
      " [0 1 2 3 4 5 6 7 8 9]\n",
      "B:\n",
      " [[2 1 5]\n",
      " [9 3 2]\n",
      " [5 6 5]\n",
      " [9 2 6]]\n",
      "Result:\n",
      " [[ 82  28  78]\n",
      " [162  74 101]\n",
      " [181  71 106]]\n"
     ]
    }
   ],
   "source": [
    "range_3x4=np.arange(10)\n",
    "print(\"range:\\n\",range_3x4)\n",
    "a=np.random.randint(1,10,(3, 4))\n",
    "print(\"A:\\n\",a)\n",
    "range_4x3=np.arange(10)\n",
    "print(\"range:\\n\",range_4x3)\n",
    "b=np.random.randint(1,10,(4, 3))\n",
    "print(\"B:\\n\",b)\n",
    "result=np.dot(a,b)\n",
    "print(\"Result:\\n\",result)"
   ]
  },
  {
   "cell_type": "markdown",
   "id": "7a766a83",
   "metadata": {},
   "source": [
    "Question 6\n",
    "# Create a function that takes a 2D NumPy array as input and returns a new array where: All even numbers are squared. All odd numbers are replaced by -1."
   ]
  },
  {
   "cell_type": "code",
   "execution_count": 14,
   "id": "e7729066",
   "metadata": {},
   "outputs": [
    {
     "name": "stdout",
     "output_type": "stream",
     "text": [
      "transformed:\n",
      " [[ 6724   784  6084]\n",
      " [26244  5476    -1]\n",
      " [   -1    -1 11236]]\n"
     ]
    }
   ],
   "source": [
    "#defining a function\n",
    "def array_2d(arr):\n",
    "    transform_arr=np.where(arr%2==0,arr**2,-1)\n",
    "    return transform_arr\n",
    "new_array=array_2d(result)\n",
    "print(\"transformed:\\n\",new_array)\n",
    "\n",
    "\n",
    "    \n",
    "    \n"
   ]
  }
 ],
 "metadata": {
  "kernelspec": {
   "display_name": "Python 3",
   "language": "python",
   "name": "python3"
  },
  "language_info": {
   "codemirror_mode": {
    "name": "ipython",
    "version": 3
   },
   "file_extension": ".py",
   "mimetype": "text/x-python",
   "name": "python",
   "nbconvert_exporter": "python",
   "pygments_lexer": "ipython3",
   "version": "3.13.7"
  }
 },
 "nbformat": 4,
 "nbformat_minor": 5
}
